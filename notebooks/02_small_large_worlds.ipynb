{
 "cells": [
  {
   "cell_type": "markdown",
   "metadata": {},
   "source": [
    "# 2: Small Worlds and Large Worlds"
   ]
  },
  {
   "cell_type": "code",
   "execution_count": null,
   "metadata": {},
   "outputs": [],
   "source": [
    "#black blackcellmagic proplot"
   ]
  },
  {
   "cell_type": "code",
   "execution_count": null,
   "metadata": {},
   "outputs": [],
   "source": [
    "import numpy as np\n",
    "import scipy.stats as st\n",
    "import matplotlib.pyplot as plt\n",
    "\n",
    "import torch\n",
    "from torch import tensor\n",
    "import pyro\n",
    "from pyro.distributions import (\n",
    "    Bernoulli,\n",
    "    Beta,\n",
    "    Binomial,\n",
    "    Categorical,\n",
    "    Normal,\n",
    "    Uniform,\n",
    ")"
   ]
  },
  {
   "cell_type": "markdown",
   "metadata": {},
   "source": [
    "### Code 2.1"
   ]
  },
  {
   "cell_type": "markdown",
   "metadata": {},
   "source": [
    "Normalize a list of counts to produce a probability distribution"
   ]
  },
  {
   "cell_type": "code",
   "execution_count": null,
   "metadata": {},
   "outputs": [],
   "source": [
    "ways = np.array([0, 3, 8, 9, 0])\n",
    "print(ways/sum(ways))"
   ]
  },
  {
   "cell_type": "markdown",
   "metadata": {},
   "source": [
    "### Code 2.2"
   ]
  },
  {
   "cell_type": "markdown",
   "metadata": {},
   "source": [
    "Compute the likelihood of getting six successes in nine trials with a success probability of 50% using a binomial distribution."
   ]
  },
  {
   "cell_type": "code",
   "execution_count": null,
   "metadata": {},
   "outputs": [],
   "source": [
    "# Using scipy's stats module\n",
    "st.binom(n=9, p=0.5).pmf(6)"
   ]
  },
  {
   "cell_type": "code",
   "execution_count": null,
   "metadata": {},
   "outputs": [],
   "source": [
    "# Using pyro's distributions\n",
    "#tt(6.)\n",
    "#torch.tensor(3.14159)\n",
    "Binomial(total_count=9, probs=0.5).log_prob(tensor(6.)).exp().item()"
   ]
  },
  {
   "cell_type": "markdown",
   "metadata": {},
   "source": [
    "### Code 2.3"
   ]
  },
  {
   "cell_type": "markdown",
   "metadata": {},
   "source": [
    "Using the \"grid approximation\" to condition models"
   ]
  },
  {
   "cell_type": "code",
   "execution_count": null,
   "metadata": {},
   "outputs": [],
   "source": [
    "def calc_posterior(n_points=20):\n",
    "    # Define the grid\n",
    "    p_grid = np.linspace(0, 1, n_points)\n",
    "    # Define uniform prior (un-normalized)\n",
    "    prior = np.ones(n_points)\n",
    "    # Compute likelihood at each point\n",
    "    likelihood = st.binom(n=9, p=p_grid).pmf(6)\n",
    "    # Compute product of likelihood and prior\n",
    "    posterior = likelihood * prior\n",
    "    # Normalize the posterior\n",
    "    posterior /= sum(posterior)\n",
    "    return p_grid, posterior"
   ]
  },
  {
   "cell_type": "markdown",
   "metadata": {},
   "source": [
    "### Code 2.4\n",
    "Display the results of the above computation"
   ]
  },
  {
   "cell_type": "code",
   "execution_count": null,
   "metadata": {},
   "outputs": [],
   "source": [
    "fig, axes = plt.subplots(ncols=2, figsize=(10, 4))\n",
    "for n, ax in zip((5, 20), axes):\n",
    "    p_grid, posterior = calc_posterior(n)\n",
    "    ax.plot(p_grid, posterior, marker=\"o\")\n",
    "    ax.set_xlabel(\"probability of water\")\n",
    "    ax.set_ylabel(\"posterior probability\")\n",
    "    ax.set_title(f\"{n} points\")\n",
    "plt.subplots_adjust(wspace=0.3)\n",
    "plt.show()"
   ]
  },
  {
   "cell_type": "markdown",
   "metadata": {},
   "source": [
    "### Code 2.5\n",
    "Do the same thing as above, but for some different priors"
   ]
  },
  {
   "cell_type": "code",
   "execution_count": null,
   "metadata": {},
   "outputs": [],
   "source": [
    "def calc_posterior(prior):\n",
    "    # Define the grid\n",
    "    n_points = len(prior)\n",
    "    p_grid = np.linspace(0, 1, n_points)\n",
    "    # Compute likelihood at each point\n",
    "    likelihood = st.binom(n=9, p=p_grid).pmf(6)\n",
    "    # Compute product of likelihood and prior\n",
    "    posterior = likelihood * prior\n",
    "    # Normalize the posterior\n",
    "    posterior /= sum(posterior)\n",
    "    return p_grid, posterior"
   ]
  },
  {
   "cell_type": "code",
   "execution_count": null,
   "metadata": {},
   "outputs": [],
   "source": [
    "fig, axes = plt.subplots(ncols=2, figsize=(10, 4))\n",
    "n_points = 100\n",
    "p_grid = np.linspace(0, 1, n_points)\n",
    "priors = np.array([\n",
    "    [0 if p < 0.5 else 1 for p in p_grid], # step function\n",
    "    np.exp(-5*np.abs(p_grid - 0.5)), # Laplace prior\n",
    "])\n",
    "for prior, ax, label in zip(priors, axes, (\"step\", \"Laplace\")):\n",
    "    p_grid, posterior = calc_posterior(prior)\n",
    "    ax.plot(p_grid, posterior)\n",
    "    ax.set_xlabel(\"probability of water\")\n",
    "    ax.set_ylabel(\"posterior probability\")\n",
    "    ax.set_title(f\"{label} prior\")\n",
    "plt.subplots_adjust(wspace=0.3)\n",
    "plt.show()"
   ]
  },
  {
   "cell_type": "markdown",
   "metadata": {},
   "source": [
    "### Code 2.6"
   ]
  },
  {
   "cell_type": "markdown",
   "metadata": {},
   "source": [
    "Compute the quadratic approximation (the posterior is approximated as a Gaussian centered on the MAP estimate) for the globe model:\n",
    "$$\n",
    "p \\sim \\text{Uniform}(0, 1) \\\\\n",
    "W \\sim \\text{Binomial}(W+L, p) \\\\\n",
    "\\text{data: } W=6, L=3\n",
    "$$\n",
    "McElreath uses some black box function `quap` to perform the calculation. Since no equivalent function to `quap` exists in `pyro` (that I know of), we're just gonna have to roll our own. First we compute the MAP estimate for $p$ using vanilla gradient descent."
   ]
  },
  {
   "cell_type": "code",
   "execution_count": null,
   "metadata": {},
   "outputs": [],
   "source": [
    "# First, we compute the MAP estimate\n",
    "pyro.clear_param_store()\n",
    "# Specify the model\n",
    "def model(W, L):\n",
    "    N = tensor(W+L)\n",
    "    # p is an optimizable parameter instead of a sampled value\n",
    "    p = pyro.param(\"p\", Uniform(0., 1.).sample())\n",
    "    # Condition on the observed value of W\n",
    "    pyro.sample(\"W\", Binomial(N, p), obs=tensor(W))\n",
    "\n",
    "# Trace the model so that we can inspect it when it runs\n",
    "traced_model = pyro.poutine.trace(model)\n",
    "vals = []\n",
    "# Use vanilla gradient descent to maximize the likelihood\n",
    "for _ in range(1000):\n",
    "    tr = traced_model.get_trace(6., 3.)\n",
    "    p = tr.nodes[\"p\"][\"value\"]\n",
    "    log_L = tr.log_prob_sum() # log likelihood\n",
    "    log_L.backward() # Differentiate likelihood wrt parameters (p)\n",
    "    p.data += 1e-3*p.grad # gradient update\n",
    "    p.grad.zero_()\n",
    "    vals.append(p.item())\n",
    "print(f\"MAP estimate: p={vals[-1]:.4f}\")"
   ]
  },
  {
   "cell_type": "code",
   "execution_count": null,
   "metadata": {},
   "outputs": [],
   "source": [
    "plt.plot(vals)\n",
    "plt.xscale('log')\n",
    "plt.title(\"MAP estimate for $p$\")\n",
    "plt.xlabel(\"Steps\")\n",
    "plt.ylabel(\"$p$\")\n",
    "plt.show()"
   ]
  },
  {
   "cell_type": "markdown",
   "metadata": {},
   "source": [
    "Then we compute the \"curvature\" at the peak in order to estimate the standard deviation. The reason why becomes apparent if you look at the log of the normal distribution:\n",
    "$$\n",
    "N(x;\\mu,\\sigma) \\propto \\exp\\left(-(x-\\mu)^2/2\\sigma^2\\right) \\\\\n",
    "\\log N(x; \\mu,\\sigma) = f(x) = -(x-\\mu)^2/2\\sigma^2 + C\n",
    "$$\n",
    "we can see that if we expand $f(x)$ around $x=\\mu$ to second order, we recover the equation itself, because $f(x)$ is a parabola with\n",
    "$$\n",
    "f(\\mu) = C,\\quad f^\\prime(\\mu) = 0,\\quad f^{\\prime\\prime}(\\mu) = -1/2\\sigma^2\n",
    "$$\n",
    "so that the relationship between the second derivative and $\\sigma$ is\n",
    "$$\n",
    "\\sigma = 1/\\sqrt{-f^{\\prime\\prime}(\\mu)}\n",
    "$$"
   ]
  },
  {
   "cell_type": "code",
   "execution_count": null,
   "metadata": {},
   "outputs": [],
   "source": [
    "# Compute the \"curvature\" (second derivative) of the log\n",
    "# likelihood wrt p\n",
    "tr = traced_model.get_trace(6., 3.)\n",
    "p = tr.nodes[\"p\"][\"value\"]\n",
    "log_L = tr.log_prob_sum()\n",
    "# Compute the second derivative of the log likelihood wrt p\n",
    "g = torch.autograd.grad(log_L, p, create_graph=True)[0]\n",
    "g2 = torch.autograd.grad(g, p)[0]\n",
    "print(f\"2nd derivative is {g2.item():.3f}\")\n",
    "stddev = 1/torch.sqrt(-g2)\n",
    "print(f\"Which means that the stddev is {stddev.item():.3f}\")"
   ]
  },
  {
   "cell_type": "markdown",
   "metadata": {},
   "source": [
    "### Code 2.7\n",
    "Do the same thing, but analytically, using a beta distribution for $p$ (beta is the conjugate prior to the binomial distribution, and generalizes the uniform distribution)"
   ]
  },
  {
   "cell_type": "code",
   "execution_count": null,
   "metadata": {},
   "outputs": [],
   "source": [
    "x = torch.linspace(0.001, 0.999, 100)\n",
    "y1 = Beta(6.+1, 3.+1).log_prob(x).exp()\n",
    "y2 = Normal(p, stddev).log_prob(x).exp().detach()\n",
    "plt.plot(x, y1, label=\"exact\")\n",
    "plt.plot(x, y2, label=\"Gaussian approx.\")\n",
    "plt.legend()\n",
    "plt.show()"
   ]
  },
  {
   "cell_type": "markdown",
   "metadata": {},
   "source": [
    "### Code 2.8\n",
    "Use vanilla MCMC to infer the posterior distribution of $p$ for the globe model"
   ]
  },
  {
   "cell_type": "code",
   "execution_count": null,
   "metadata": {},
   "outputs": [],
   "source": [
    "n_samples = 10000\n",
    "p = list()\n",
    "p.append(tensor(0.5))\n",
    "W = tensor(6.)\n",
    "L = tensor(3.)\n",
    "for i in range(1, n_samples):\n",
    "    # Take a small step away from the previous sample\n",
    "    p_new = Normal(p[i-1], 0.1).sample()\n",
    "    # If the step is outside [0, 1], squish it back in there\n",
    "    if p_new < 0:\n",
    "        p_new = abs(p_new)\n",
    "    if p_new > 1:\n",
    "        p_new = 2 - p_new\n",
    "    # Get the likelihood of the previous/current step\n",
    "    q0 = Binomial(W+L, p[i-1]).log_prob(W).exp()\n",
    "    q1 = Binomial(W+L, p_new).log_prob(W).exp()\n",
    "    # Reject the new sample if the likelihood ratio isn't high enough\n",
    "    if Uniform(0, 1).sample() < q1/q0:\n",
    "        p.append(p_new)\n",
    "    else:\n",
    "        p.append(p[i-1])"
   ]
  },
  {
   "cell_type": "markdown",
   "metadata": {},
   "source": [
    "### Code 2.9\n",
    "Plot the results of the MCMC simulation and compare with the analytical posterior"
   ]
  },
  {
   "cell_type": "code",
   "execution_count": null,
   "metadata": {},
   "outputs": [],
   "source": [
    "plt.hist(p, bins=100, label=\"MCMC\", density=True)\n",
    "x = torch.linspace(0, 1, 100)\n",
    "y = Beta(W+1, L+1).log_prob(x).exp()\n",
    "plt.plot(x, y, label=\"analytic\")\n",
    "plt.legend()\n",
    "plt.show()"
   ]
  },
  {
   "cell_type": "markdown",
   "metadata": {},
   "source": [
    "## Practice problems"
   ]
  },
  {
   "cell_type": "markdown",
   "metadata": {},
   "source": [
    "### 2E1\n",
    "Which of the expressions below correspond to the statement \"the probability of rain on Monday\"?\n",
    "1. Pr(rain)\n",
    "2. Pr(rain|Monday)\n",
    "3. Pr(Monday|rain)\n",
    "4. Pr(rain,Monday)/Pr(Monday)\n",
    "\n",
    "Answer: the probability of rain on Monday can be rephrased as the probability of rain, given that it is Monday, so the answer is (2). However, because of Bayes rule, (4) is also mathematically equivalent to (2), so they are both right."
   ]
  },
  {
   "cell_type": "markdown",
   "metadata": {},
   "source": [
    "### 2E2\n",
    "Which of the following statements corresponds to the expression: Pr(Monday|rain)?\n",
    "1. The probability of rain on Monday\n",
    "2. The probability of rain, given that it is Monday\n",
    "3. The probability that it is Monday, given that it is raining\n",
    "4. The probability that it is Monday and that it is raining\n",
    "\n",
    "Answer: That expression literally translates into (3). It is not (4) because that's the _joint_ probability Pr(Monday, rain)"
   ]
  },
  {
   "cell_type": "markdown",
   "metadata": {},
   "source": [
    "### 2E3\n",
    "Which of the expressions below correspond to the statement \"the probability that it is Monday, given that it is raining\"?\n",
    "\n",
    "1. Pr(Monday|rain)\n",
    "2. Pr(rain|Monday)\n",
    "3. Pr(rain|Monday) Pr(Monday)\n",
    "4. Pr(rain|Monday) Pr(Monday) / Pr(rain)\n",
    "5. Pr(Monday|rain) P(rain) / Pr(Monday)\n",
    "\n",
    "Answer: So first off, (3) is equivalent to the joint distribution Pr(rain, Monday), and (4)\\~(1) and (5)\\~(2) by Bayes' rule. The statement of interest is equivalent to Pr(Monday|rain), which is then equal to choices (1) and (4)"
   ]
  },
  {
   "cell_type": "markdown",
   "metadata": {},
   "source": [
    "### 2E4\n",
    "The \"probability of water is 0.7\" in the context of the globe tossing model means that the probability of your thumb landing on water after a toss is 0.7. Assuming that your thumb is equally likely to land anywhere on the surface, this means that the fraction of the surface of the globe that is covered in water is then 0.7."
   ]
  },
  {
   "cell_type": "markdown",
   "metadata": {},
   "source": [
    "### 2M1\n",
    "Compute and plot the grid approximate posterior distribution for each of the following sets of observations. In each case, assume a uniform prior for $p$:\n",
    "1. W, W, W (W=3, L=0)\n",
    "2. W, W, W, L (W=3, L=1)\n",
    "3. L, W, W, L, W, W, W (W=5, L=2)\n",
    "4. L, W, L, L, W, W, W, L, W, W (W=6, L=4) "
   ]
  },
  {
   "cell_type": "code",
   "execution_count": null,
   "metadata": {},
   "outputs": [],
   "source": [
    "def calc_posterior(W, L):\n",
    "    p_grid = np.linspace(0, 1, 100)\n",
    "    prior = np.ones(p_grid.shape)\n",
    "    L = st.binom(n=W+L, p=p_grid).pmf(W)\n",
    "    posterior = L * prior\n",
    "    posterior /= sum(posterior)\n",
    "    return p_grid, posterior"
   ]
  },
  {
   "cell_type": "code",
   "execution_count": null,
   "metadata": {},
   "outputs": [],
   "source": [
    "for W, L in ((3, 0), (3, 1), (5, 2)):\n",
    "    x, y = calc_posterior(W, L)\n",
    "    plt.plot(x, y, label=f\"W={W}, L={L}\")\n",
    "plt.xlabel(\"$p$\")\n",
    "plt.ylabel(\"pdf\")\n",
    "plt.title(\"Posterior probability\")\n",
    "plt.legend()\n",
    "plt.show()"
   ]
  },
  {
   "cell_type": "code",
   "execution_count": 1,
   "metadata": {},
   "outputs": [
    {
     "name": "stderr",
     "output_type": "stream",
     "text": [
      "MovieWriter ffmpeg unavailable; using Pillow instead.\n"
     ]
    },
    {
     "ename": "IndexError",
     "evalue": "list index out of range",
     "output_type": "error",
     "traceback": [
      "\u001b[0;31m---------------------------------------------------------------------------\u001b[0m",
      "\u001b[0;31mZeroDivisionError\u001b[0m                         Traceback (most recent call last)",
      "File \u001b[0;32m~/Downloads/stat_rethinking_2023-main/probabilistic_programming/statistical-rethinking-master-pyro-pytorch/.venv/lib/python3.11/site-packages/matplotlib/animation.py:233\u001b[0m, in \u001b[0;36mAbstractMovieWriter.saving\u001b[0;34m(self, fig, outfile, dpi, *args, **kwargs)\u001b[0m\n\u001b[1;32m    232\u001b[0m \u001b[39mtry\u001b[39;00m:\n\u001b[0;32m--> 233\u001b[0m     \u001b[39myield\u001b[39;00m \u001b[39mself\u001b[39m\n\u001b[1;32m    234\u001b[0m \u001b[39mfinally\u001b[39;00m:\n",
      "File \u001b[0;32m~/Downloads/stat_rethinking_2023-main/probabilistic_programming/statistical-rethinking-master-pyro-pytorch/.venv/lib/python3.11/site-packages/matplotlib/animation.py:1090\u001b[0m, in \u001b[0;36mAnimation.save\u001b[0;34m(self, filename, writer, fps, dpi, codec, bitrate, extra_args, metadata, extra_anim, savefig_kwargs, progress_callback)\u001b[0m\n\u001b[1;32m   1089\u001b[0m \u001b[39mfor\u001b[39;00m anim \u001b[39min\u001b[39;00m all_anim:\n\u001b[0;32m-> 1090\u001b[0m     anim\u001b[39m.\u001b[39;49m_init_draw()  \u001b[39m# Clear the initial frame\u001b[39;00m\n\u001b[1;32m   1091\u001b[0m frame_number \u001b[39m=\u001b[39m \u001b[39m0\u001b[39m\n",
      "File \u001b[0;32m~/Downloads/stat_rethinking_2023-main/probabilistic_programming/statistical-rethinking-master-pyro-pytorch/.venv/lib/python3.11/site-packages/matplotlib/animation.py:1748\u001b[0m, in \u001b[0;36mFuncAnimation._init_draw\u001b[0;34m(self)\u001b[0m\n\u001b[1;32m   1747\u001b[0m         \u001b[39mreturn\u001b[39;00m\n\u001b[0;32m-> 1748\u001b[0m     \u001b[39mself\u001b[39;49m\u001b[39m.\u001b[39;49m_draw_frame(frame_data)\n\u001b[1;32m   1749\u001b[0m \u001b[39melse\u001b[39;00m:\n",
      "File \u001b[0;32m~/Downloads/stat_rethinking_2023-main/probabilistic_programming/statistical-rethinking-master-pyro-pytorch/.venv/lib/python3.11/site-packages/matplotlib/animation.py:1767\u001b[0m, in \u001b[0;36mFuncAnimation._draw_frame\u001b[0;34m(self, framedata)\u001b[0m\n\u001b[1;32m   1765\u001b[0m \u001b[39m# Call the func with framedata and args. If blitting is desired,\u001b[39;00m\n\u001b[1;32m   1766\u001b[0m \u001b[39m# func needs to return a sequence of any artists that were modified.\u001b[39;00m\n\u001b[0;32m-> 1767\u001b[0m \u001b[39mself\u001b[39m\u001b[39m.\u001b[39m_drawn_artists \u001b[39m=\u001b[39m \u001b[39mself\u001b[39;49m\u001b[39m.\u001b[39;49m_func(framedata, \u001b[39m*\u001b[39;49m\u001b[39mself\u001b[39;49m\u001b[39m.\u001b[39;49m_args)\n\u001b[1;32m   1769\u001b[0m \u001b[39mif\u001b[39;00m \u001b[39mself\u001b[39m\u001b[39m.\u001b[39m_blit:\n",
      "Cell \u001b[0;32mIn[1], line 55\u001b[0m, in \u001b[0;36mUpdateDist.__call__\u001b[0;34m(self, i)\u001b[0m\n\u001b[1;32m     53\u001b[0m \u001b[39m# This way the plot can continuously run and we just keep\u001b[39;00m\n\u001b[1;32m     54\u001b[0m \u001b[39m# watching new realizations of the process\u001b[39;00m\n\u001b[0;32m---> 55\u001b[0m \u001b[39mprint\u001b[39m(\u001b[39mself\u001b[39m\u001b[39m.\u001b[39midx, i\u001b[39m/\u001b[39;49m(i\u001b[39m%\u001b[39;49m\u001b[39mself\u001b[39;49m\u001b[39m.\u001b[39;49mnum_frames))\n\u001b[1;32m     56\u001b[0m \u001b[39mif\u001b[39;00m i \u001b[39m==\u001b[39m \u001b[39m0\u001b[39m:\n",
      "\u001b[0;31mZeroDivisionError\u001b[0m: division by zero",
      "\nDuring handling of the above exception, another exception occurred:\n",
      "\u001b[0;31mIndexError\u001b[0m                                Traceback (most recent call last)",
      "Cell \u001b[0;32mIn[1], line 86\u001b[0m\n\u001b[1;32m     84\u001b[0m ud \u001b[39m=\u001b[39m UpdateDist(ax, prob\u001b[39m=\u001b[39m\u001b[39m0.7\u001b[39m)\n\u001b[1;32m     85\u001b[0m anim \u001b[39m=\u001b[39m FuncAnimation(fig, ud, frames\u001b[39m=\u001b[39m\u001b[39mlen\u001b[39m(data)\u001b[39m*\u001b[39mud\u001b[39m.\u001b[39mnum_frames, interval\u001b[39m=\u001b[39m\u001b[39m100\u001b[39m, blit\u001b[39m=\u001b[39m\u001b[39mTrue\u001b[39;00m)\n\u001b[0;32m---> 86\u001b[0m anim\u001b[39m.\u001b[39;49msave(\u001b[39m'\u001b[39;49m\u001b[39mtest.gif\u001b[39;49m\u001b[39m'\u001b[39;49m, fps\u001b[39m=\u001b[39;49m\u001b[39m10\u001b[39;49m)\n\u001b[1;32m     87\u001b[0m \u001b[39m#plt.show()\u001b[39;00m\n",
      "File \u001b[0;32m~/Downloads/stat_rethinking_2023-main/probabilistic_programming/statistical-rethinking-master-pyro-pytorch/.venv/lib/python3.11/site-packages/matplotlib/animation.py:1085\u001b[0m, in \u001b[0;36mAnimation.save\u001b[0;34m(self, filename, writer, fps, dpi, codec, bitrate, extra_args, metadata, extra_anim, savefig_kwargs, progress_callback)\u001b[0m\n\u001b[1;32m   1081\u001b[0m savefig_kwargs[\u001b[39m'\u001b[39m\u001b[39mtransparent\u001b[39m\u001b[39m'\u001b[39m] \u001b[39m=\u001b[39m \u001b[39mFalse\u001b[39;00m   \u001b[39m# just to be safe!\u001b[39;00m\n\u001b[1;32m   1082\u001b[0m \u001b[39m# canvas._is_saving = True makes the draw_event animation-starting\u001b[39;00m\n\u001b[1;32m   1083\u001b[0m \u001b[39m# callback a no-op; canvas.manager = None prevents resizing the GUI\u001b[39;00m\n\u001b[1;32m   1084\u001b[0m \u001b[39m# widget (both are likewise done in savefig()).\u001b[39;00m\n\u001b[0;32m-> 1085\u001b[0m \u001b[39mwith\u001b[39;49;00m mpl\u001b[39m.\u001b[39;49mrc_context({\u001b[39m'\u001b[39;49m\u001b[39msavefig.bbox\u001b[39;49m\u001b[39m'\u001b[39;49m: \u001b[39mNone\u001b[39;49;00m}), \\\n\u001b[1;32m   1086\u001b[0m      writer\u001b[39m.\u001b[39;49msaving(\u001b[39mself\u001b[39;49m\u001b[39m.\u001b[39;49m_fig, filename, dpi), \\\n\u001b[1;32m   1087\u001b[0m      cbook\u001b[39m.\u001b[39;49m_setattr_cm(\u001b[39mself\u001b[39;49m\u001b[39m.\u001b[39;49m_fig\u001b[39m.\u001b[39;49mcanvas,\n\u001b[1;32m   1088\u001b[0m                        _is_saving\u001b[39m=\u001b[39;49m\u001b[39mTrue\u001b[39;49;00m, manager\u001b[39m=\u001b[39;49m\u001b[39mNone\u001b[39;49;00m):\n\u001b[1;32m   1089\u001b[0m     \u001b[39mfor\u001b[39;49;00m anim \u001b[39min\u001b[39;49;00m all_anim:\n\u001b[1;32m   1090\u001b[0m         anim\u001b[39m.\u001b[39;49m_init_draw()  \u001b[39m# Clear the initial frame\u001b[39;49;00m\n",
      "File \u001b[0;32m/usr/local/Cellar/python@3.11/3.11.4_1/Frameworks/Python.framework/Versions/3.11/lib/python3.11/contextlib.py:155\u001b[0m, in \u001b[0;36m_GeneratorContextManager.__exit__\u001b[0;34m(self, typ, value, traceback)\u001b[0m\n\u001b[1;32m    153\u001b[0m     value \u001b[39m=\u001b[39m typ()\n\u001b[1;32m    154\u001b[0m \u001b[39mtry\u001b[39;00m:\n\u001b[0;32m--> 155\u001b[0m     \u001b[39mself\u001b[39m\u001b[39m.\u001b[39mgen\u001b[39m.\u001b[39mthrow(typ, value, traceback)\n\u001b[1;32m    156\u001b[0m \u001b[39mexcept\u001b[39;00m \u001b[39mStopIteration\u001b[39;00m \u001b[39mas\u001b[39;00m exc:\n\u001b[1;32m    157\u001b[0m     \u001b[39m# Suppress StopIteration *unless* it's the same exception that\u001b[39;00m\n\u001b[1;32m    158\u001b[0m     \u001b[39m# was passed to throw().  This prevents a StopIteration\u001b[39;00m\n\u001b[1;32m    159\u001b[0m     \u001b[39m# raised inside the \"with\" statement from being suppressed.\u001b[39;00m\n\u001b[1;32m    160\u001b[0m     \u001b[39mreturn\u001b[39;00m exc \u001b[39mis\u001b[39;00m \u001b[39mnot\u001b[39;00m value\n",
      "File \u001b[0;32m~/Downloads/stat_rethinking_2023-main/probabilistic_programming/statistical-rethinking-master-pyro-pytorch/.venv/lib/python3.11/site-packages/matplotlib/animation.py:235\u001b[0m, in \u001b[0;36mAbstractMovieWriter.saving\u001b[0;34m(self, fig, outfile, dpi, *args, **kwargs)\u001b[0m\n\u001b[1;32m    233\u001b[0m     \u001b[39myield\u001b[39;00m \u001b[39mself\u001b[39m\n\u001b[1;32m    234\u001b[0m \u001b[39mfinally\u001b[39;00m:\n\u001b[0;32m--> 235\u001b[0m     \u001b[39mself\u001b[39;49m\u001b[39m.\u001b[39;49mfinish()\n",
      "File \u001b[0;32m~/Downloads/stat_rethinking_2023-main/probabilistic_programming/statistical-rethinking-master-pyro-pytorch/.venv/lib/python3.11/site-packages/matplotlib/animation.py:501\u001b[0m, in \u001b[0;36mPillowWriter.finish\u001b[0;34m(self)\u001b[0m\n\u001b[1;32m    500\u001b[0m \u001b[39mdef\u001b[39;00m \u001b[39mfinish\u001b[39m(\u001b[39mself\u001b[39m):\n\u001b[0;32m--> 501\u001b[0m     \u001b[39mself\u001b[39;49m\u001b[39m.\u001b[39;49m_frames[\u001b[39m0\u001b[39;49m]\u001b[39m.\u001b[39msave(\n\u001b[1;32m    502\u001b[0m         \u001b[39mself\u001b[39m\u001b[39m.\u001b[39moutfile, save_all\u001b[39m=\u001b[39m\u001b[39mTrue\u001b[39;00m, append_images\u001b[39m=\u001b[39m\u001b[39mself\u001b[39m\u001b[39m.\u001b[39m_frames[\u001b[39m1\u001b[39m:],\n\u001b[1;32m    503\u001b[0m         duration\u001b[39m=\u001b[39m\u001b[39mint\u001b[39m(\u001b[39m1000\u001b[39m \u001b[39m/\u001b[39m \u001b[39mself\u001b[39m\u001b[39m.\u001b[39mfps), loop\u001b[39m=\u001b[39m\u001b[39m0\u001b[39m)\n",
      "\u001b[0;31mIndexError\u001b[0m: list index out of range"
     ]
    }
   ],
   "source": [
    "import math\n",
    "import scipy.stats as st\n",
    "import numpy as np\n",
    "import matplotlib\n",
    "matplotlib.use('ps')\n",
    "from matplotlib import rc\n",
    "\n",
    "rc('text',usetex=True)\n",
    "rc('text.latex', preamble=r'\\usepackage{color}')\n",
    "\n",
    "import matplotlib.pyplot as plt\n",
    "\n",
    "from matplotlib.animation import FuncAnimation\n",
    "\n",
    "def calc_posterior(W, L):\n",
    "    p_grid = np.linspace(0, 1, 100)\n",
    "    #prior = np.ones(p_grid.shape)\n",
    "    L = st.binom(n=W+L, p=p_grid).pmf(W)\n",
    "    posterior = L #* prior\n",
    "    posterior /= sum(posterior)\n",
    "    return p_grid, posterior\n",
    "\n",
    "obs = ['L', 'W', 'L', 'L', 'W', 'W', 'W', 'L', 'W', 'W']\n",
    "data = []\n",
    "for i in range(len(obs)):\n",
    "    curr_obs = obs[0:i+1]\n",
    "    W = curr_obs.count('W')\n",
    "    L = curr_obs.count('L')\n",
    "    data.append((W,L))\n",
    "    #print(data)\n",
    "\n",
    "class UpdateDist:\n",
    "    def __init__(self, ax, prob=0.5):\n",
    "        self.idx = 0\n",
    "        self.prob = prob\n",
    "        self.ax = ax\n",
    "        #self.line, = ax.plot([], [], 'k-')\n",
    "        self.lines = [self.ax.plot([], [], 'k--')[0], self.ax.plot([], [], 'r-')[0] ]    \n",
    "        self.text = self.ax.text(0.9, 0.05, '', ha='right', va='top', fontsize=18)\n",
    "        self.x = np.linspace(0, 1, 100)\n",
    "        self.num_frames = 50\n",
    "        # Set up plot parameters\n",
    "        self.ax.set_xlim(0, 1)\n",
    "        self.ax.set_ylim(0, 0.06)\n",
    "        self.ax.grid(True)\n",
    "\n",
    "        # This vertical line represents the theoretical value, to\n",
    "        # which the plotted distribution should converge.\n",
    "        self.ax.axvline(prob, linestyle='--', color='black')\n",
    "\n",
    "    def __call__(self, i):\n",
    "        global data, obs\n",
    "        # This way the plot can continuously run and we just keep\n",
    "        # watching new realizations of the process\n",
    "        print(self.idx, i/(i%self.num_frames))\n",
    "        if i == 0:\n",
    "            for line in self.lines:\n",
    "                line.set_data([], [])\n",
    "            self.x_prev = np.linspace(0, 1, 100)\n",
    "            self.y_prev = np.ones(self.x_prev.shape)\n",
    "            self.y_prev = self.y_prev / np.linalg.norm(self.y_prev, 1)\n",
    "        \n",
    "        \n",
    "        W, L = data[self.idx]\n",
    "        x, y = calc_posterior(W, L)\n",
    "        \n",
    "        #self.lines[0].set_data(self.x_prev, self.y_prev)\n",
    "        alpha = (i%self.num_frames) / self.num_frames\n",
    "        y_alpha = (alpha*y) + (1-alpha)*self.y_prev\n",
    "        self.lines[1].set_data(x, y_alpha)\n",
    "        self.text.set_text(f\"{obs[self.idx]} W={W} L={L} N={self.idx +1}\")\n",
    "        if (i%self.num_frames) == 0 and i!=0:\n",
    "            self.x_prev, self.y_prev = x, y_alpha\n",
    "            self.idx = self.idx  + 1\n",
    "        if (i+1)%(self.num_frames) == 0:\n",
    "            self.x_prev, self.y_prev = x, y_alpha\n",
    "        return self.lines\n",
    "\n",
    "# Fixing random state for reproducibility\n",
    "np.random.seed(19680801)\n",
    "\n",
    "\n",
    "fig, ax = plt.subplots()\n",
    "ud = UpdateDist(ax, prob=0.7)\n",
    "anim = FuncAnimation(fig, ud, frames=len(data)*ud.num_frames, interval=100, blit=True)\n",
    "anim.save('test.gif', fps=10)\n",
    "#plt.show()"
   ]
  },
  {
   "cell_type": "code",
   "execution_count": 45,
   "metadata": {},
   "outputs": [],
   "source": [
    "import numpy as np\n",
    "import matplotlib.pyplot as plt\n",
    "from PIL import Image\n",
    "\n",
    "# Function 1\n",
    "def function1(x):\n",
    "    return np.sin(x)\n",
    "\n",
    "# Function 2\n",
    "def function2(x):\n",
    "    return np.cos(x)\n",
    "\n",
    "# Intermediary functions for visualization\n",
    "def intermediate_function(alpha, x):\n",
    "    return (1 - alpha) * function1(x) + alpha * function2(x)\n",
    "\n",
    "def plot_transition(alpha, x, y1, y2, i):\n",
    "    y_intermediate = intermediate_function(alpha, x)\n",
    "    plt.figure(figsize=(8, 5))\n",
    "    plt.plot(x, y1, label=\"Function 1 (sin(x))\", color='blue')\n",
    "    plt.plot(x, y2, label=\"Function 2 (cos(x))\", color='red')\n",
    "    plt.plot(x, y_intermediate, label=f\"Intermediate (alpha = {alpha:.2f})\", color='green', linestyle='dashed')\n",
    "    plt.legend()\n",
    "    plt.xlabel('x')\n",
    "    plt.ylabel('y')\n",
    "    plt.title(f\"Transition between Function 1 and Function 2 (alpha = {alpha:.2f})\")\n",
    "    plt.grid(True)\n",
    "    plt.tight_layout()\n",
    "    plt.savefig(f'./frame/frame_{int(i)}.png')\n",
    "    plt.close()\n",
    "\n",
    "# Generate GIF\n",
    "def generate_gif():\n",
    "    x = np.linspace(0, 2 * np.pi, 100)\n",
    "    y1 = function1(x)\n",
    "    y2 = function2(x)\n",
    "\n",
    "    num_frames = 50\n",
    "    for i in range(num_frames):\n",
    "        alpha = i / (num_frames)\n",
    "        plot_transition(alpha, x, y1, y2, i)\n",
    "\n",
    "    images = [Image.open(f'./frame/frame_{i}.png') for i in range(num_frames)]\n",
    "    images[0].save('function_transition.gif', save_all=True, append_images=images[1:], duration=100, loop=0)\n",
    "\n",
    "if __name__ == \"__main__\":\n",
    "    generate_gif()\n"
   ]
  },
  {
   "cell_type": "markdown",
   "metadata": {},
   "source": [
    "### 2M2\n",
    "Same as 2M1, but assume a step prior that is zero for $p < 0.5$ and constant otherwise."
   ]
  },
  {
   "cell_type": "code",
   "execution_count": null,
   "metadata": {},
   "outputs": [],
   "source": [
    "def calc_posterior(W, L):\n",
    "    p_grid = np.linspace(0, 1, 100)\n",
    "    prior = np.ones(p_grid.shape)\n",
    "    prior[p_grid<0.5] = 0\n",
    "    L = st.binom(n=W+L, p=p_grid).pmf(W)\n",
    "    posterior = L * prior\n",
    "    posterior /= sum(posterior)\n",
    "    return p_grid, posterior"
   ]
  },
  {
   "cell_type": "code",
   "execution_count": null,
   "metadata": {},
   "outputs": [],
   "source": [
    "for W, L in ((3, 0), (3, 1), (5, 2)):\n",
    "    x, y = calc_posterior(W, L)\n",
    "    plt.plot(x, y, label=f\"W={W}, L={L}\")\n",
    "plt.xlabel(\"$p$\")\n",
    "plt.ylabel(\"pdf\")\n",
    "plt.title(\"Posterior probability\")\n",
    "plt.legend()\n",
    "plt.show()"
   ]
  },
  {
   "cell_type": "markdown",
   "metadata": {},
   "source": [
    "### 2M3\n",
    "Suppose you have two globes, one for Earth and one for Mars. Earth has fraction 0.7 water, but Mars is 100% land. Show that the posterior probability that the globe is Earth, conditional on seeing land, is 0.23."
   ]
  },
  {
   "cell_type": "markdown",
   "metadata": {},
   "source": [
    "Ok, I'm going to do this a couple ways. First, the easy numerical simulation method. We compute Pr(Earth|land) by simulating a bunch tosses, tossing out any that don't result in land, and see what fraction of them are Earth"
   ]
  },
  {
   "cell_type": "code",
   "execution_count": null,
   "metadata": {},
   "outputs": [],
   "source": [
    "def simulation(n_samples):\n",
    "    # sample a planet with equal probability\n",
    "    planets = np.random.choice([\"earth\", \"mars\"], n_samples)\n",
    "    # toss it and see where it lands\n",
    "    p = np.random.rand(n_samples)\n",
    "    terrain = np.empty(n_samples, dtype=str)\n",
    "    for planet, w_prob in zip((\"earth\", \"mars\"), (0.7, 0)):\n",
    "        mask = (planets == planet)\n",
    "        terrain[mask & (p < w_prob)] = \"W\"\n",
    "        terrain[mask & (p >= w_prob)] = \"L\"\n",
    "    return planets, terrain\n",
    "\n",
    "def calc_conditional_prob():\n",
    "    planets, terrain = simulation(int(1e6))\n",
    "    mask = (terrain == \"L\")\n",
    "    planets = planets[mask]\n",
    "    return sum(planets == \"earth\")/len(planets)"
   ]
  },
  {
   "cell_type": "code",
   "execution_count": null,
   "metadata": {},
   "outputs": [],
   "source": [
    "calc_conditional_prob()"
   ]
  },
  {
   "cell_type": "markdown",
   "metadata": {},
   "source": [
    "Then, we'll do it analytically. We assume that the Earth/Mars choice is a Bernoulli RV with $p=0.5$, so that Pr(Earth)=Pr(Mars)=1/2. The conditional probabilities Pr(land|Earth) = 0.3 and Pr(land|Mars) = 1, so from Bayes' rule we have:\n",
    "$$\n",
    "\\begin{align}\n",
    "Pr(\\text{Earth}|\\text{land}) & = Pr(\\text{Earth}, \\text{land})/Pr(\\text{land}) \\\\\n",
    "& = Pr(\\text{land} | \\text{Earth}) Pr(\\text{Earth})/ Pr(\\text{land}) \\\\\n",
    "& = 0.3 * 0.5/ Pr(\\text{land}) \\\\\n",
    "& = 0.15/ \\left[Pr(\\text{land}|\\text{Earth}) Pr(\\text{Earth}) + Pr(\\text{land}|\\text{Mars}) Pr(\\text{Mars})\\right] \\\\\n",
    "&= 0.15/\\left[ 0.3*0.5 + 1*0.5 \\right] \\\\\n",
    "&\\approx 0.2307\n",
    "\\end{align}\n",
    "$$"
   ]
  },
  {
   "cell_type": "code",
   "execution_count": null,
   "metadata": {},
   "outputs": [],
   "source": [
    "0.15/(0.3*0.5 + 1*0.5)"
   ]
  },
  {
   "cell_type": "markdown",
   "metadata": {},
   "source": [
    "Next we'll use `pyro` to figure it out by sampling the model, then analyzing the samples"
   ]
  },
  {
   "cell_type": "code",
   "execution_count": null,
   "metadata": {},
   "outputs": [],
   "source": [
    "# Specify model\n",
    "def model():\n",
    "    planet = pyro.sample(\"planet\", Bernoulli(tensor(0.5))) # 0=earth, 1=mars\n",
    "    if planet == 0:\n",
    "        terrain = pyro.sample(\"terrain\", Bernoulli(tensor(0.3))) # 0=water, 1=land\n",
    "    else:\n",
    "        terrain = pyro.sample(\"terrain\", Bernoulli(tensor(1.))) # 0=water, 1=land"
   ]
  },
  {
   "cell_type": "code",
   "execution_count": null,
   "metadata": {},
   "outputs": [],
   "source": [
    "# Get model traces\n",
    "planets = list()\n",
    "terrains = list()\n",
    "traced_model = pyro.poutine.trace(model)\n",
    "for _ in range(10000):\n",
    "    tr = traced_model.get_trace()\n",
    "    planets.append(tr.nodes[\"planet\"][\"value\"])\n",
    "    terrains.append(tr.nodes[\"terrain\"][\"value\"])\n",
    "planets = np.array(planets)\n",
    "terrains = np.array(terrains)"
   ]
  },
  {
   "cell_type": "code",
   "execution_count": null,
   "metadata": {},
   "outputs": [],
   "source": [
    "# Calculate probability\n",
    "mask = (terrains == 1)\n",
    "planets = planets[mask]\n",
    "sum(planets == 0)/len(planets)"
   ]
  },
  {
   "cell_type": "code",
   "execution_count": null,
   "metadata": {},
   "outputs": [],
   "source": []
  },
  {
   "cell_type": "code",
   "execution_count": null,
   "metadata": {},
   "outputs": [],
   "source": []
  },
  {
   "cell_type": "code",
   "execution_count": null,
   "metadata": {},
   "outputs": [],
   "source": []
  }
 ],
 "metadata": {
  "kernelspec": {
   "display_name": "Python 3",
   "language": "python",
   "name": "python3"
  },
  "language_info": {
   "codemirror_mode": {
    "name": "ipython",
    "version": 3
   },
   "file_extension": ".py",
   "mimetype": "text/x-python",
   "name": "python",
   "nbconvert_exporter": "python",
   "pygments_lexer": "ipython3",
   "version": "3.11.4"
  }
 },
 "nbformat": 4,
 "nbformat_minor": 4
}
